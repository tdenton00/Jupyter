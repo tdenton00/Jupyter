{
 "cells": [
  {
   "cell_type": "code",
   "execution_count": 5,
   "metadata": {},
   "outputs": [
    {
     "data": {
      "text/plain": [
       "24"
      ]
     },
     "execution_count": 5,
     "metadata": {},
     "output_type": "execute_result"
    }
   ],
   "source": [
    "\"3.1\"\n",
    "60 * 60\n",
    "\"3.2\"\n",
    "seconds_per_hour = 3600\n",
    "\"3.3\"\n",
    "seconds_per_hour * 24\n",
    "\"3.4\"\n",
    "seconds_per_day = seconds_per_hour * 24\n",
    "\"3.5\"\n",
    "seconds_per_day / seconds_per_hour\n",
    "\"3.6\"\n",
    "seconds_per_day // seconds_per_hour\n",
    "\"The answers from 3.5 to 3.6 were th4 same besides the .0\"\n"
   ]
  }
 ],
 "metadata": {
  "kernelspec": {
   "display_name": "Python 3",
   "language": "python",
   "name": "python3"
  },
  "language_info": {
   "codemirror_mode": {
    "name": "ipython",
    "version": 3
   },
   "file_extension": ".py",
   "mimetype": "text/x-python",
   "name": "python",
   "nbconvert_exporter": "python",
   "pygments_lexer": "ipython3",
   "version": "3.12.4"
  }
 },
 "nbformat": 4,
 "nbformat_minor": 2
}
